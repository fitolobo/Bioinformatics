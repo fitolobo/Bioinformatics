{
 "cells": [
  {
   "cell_type": "markdown",
   "metadata": {},
   "source": [
    "## Tipos de Datos"
   ]
  },
  {
   "cell_type": "code",
   "execution_count": 7,
   "metadata": {},
   "outputs": [],
   "source": [
    "#String\n",
    "# cree una variable llamada mi_string \n",
    "mi_string = \"cualquier cosa\""
   ]
  },
  {
   "cell_type": "code",
   "execution_count": 3,
   "metadata": {},
   "outputs": [
    {
     "data": {
      "text/plain": [
       "str"
      ]
     },
     "execution_count": 3,
     "metadata": {},
     "output_type": "execute_result"
    }
   ],
   "source": [
    "type(mi_string)"
   ]
  },
  {
   "cell_type": "code",
   "execution_count": 4,
   "metadata": {},
   "outputs": [
    {
     "data": {
      "text/plain": [
       "14"
      ]
     },
     "execution_count": 4,
     "metadata": {},
     "output_type": "execute_result"
    }
   ],
   "source": [
    "len(mi_string)"
   ]
  },
  {
   "cell_type": "code",
   "execution_count": 5,
   "metadata": {},
   "outputs": [
    {
     "data": {
      "text/plain": [
       "range(0, 14)"
      ]
     },
     "execution_count": 5,
     "metadata": {},
     "output_type": "execute_result"
    }
   ],
   "source": [
    "range(len(mi_string))"
   ]
  },
  {
   "cell_type": "code",
   "execution_count": 48,
   "metadata": {},
   "outputs": [],
   "source": [
    "filename = \"/my_path/hola.fasta\""
   ]
  },
  {
   "cell_type": "code",
   "execution_count": 49,
   "metadata": {},
   "outputs": [
    {
     "data": {
      "text/plain": [
       "'/my_path/hola.fasta'"
      ]
     },
     "execution_count": 49,
     "metadata": {},
     "output_type": "execute_result"
    }
   ],
   "source": [
    "str(filename)"
   ]
  },
  {
   "cell_type": "code",
   "execution_count": 62,
   "metadata": {},
   "outputs": [],
   "source": [
    "uno = \"123\""
   ]
  },
  {
   "cell_type": "code",
   "execution_count": 63,
   "metadata": {},
   "outputs": [],
   "source": [
    "dos = \"234\""
   ]
  },
  {
   "cell_type": "code",
   "execution_count": 65,
   "metadata": {},
   "outputs": [
    {
     "data": {
      "text/plain": [
       "'123234'"
      ]
     },
     "execution_count": 65,
     "metadata": {},
     "output_type": "execute_result"
    }
   ],
   "source": [
    "uno + dos"
   ]
  },
  {
   "cell_type": "code",
   "execution_count": 66,
   "metadata": {},
   "outputs": [
    {
     "data": {
      "text/plain": [
       "0.5"
      ]
     },
     "execution_count": 66,
     "metadata": {},
     "output_type": "execute_result"
    }
   ],
   "source": [
    "uno = 1\n",
    "dos = 2\n",
    "\n",
    "uno / dos"
   ]
  },
  {
   "cell_type": "markdown",
   "metadata": {},
   "source": [
    "Lista"
   ]
  },
  {
   "cell_type": "code",
   "execution_count": 18,
   "metadata": {},
   "outputs": [],
   "source": [
    "# Listas\n",
    "lista_1 = [0,1,2,3,4,5,6,7,8,9,10,11,12,13,14]"
   ]
  },
  {
   "cell_type": "code",
   "execution_count": 19,
   "metadata": {},
   "outputs": [],
   "source": [
    "lista_2 = [0, \"hola\", {\"hola\":2}, [1,2,3,4]]"
   ]
  },
  {
   "cell_type": "code",
   "execution_count": 24,
   "metadata": {},
   "outputs": [],
   "source": [
    "diccionario = {\"10000\":{\"user_name\": \"Emilio\",\n",
    " \"emial\": \"email@gmail.com\"},\n",
    "               \"10001\":{\"user_name\": \"Juan\",\n",
    " \"emial\": \"email@gmail.com\"},\n",
    "               \"10002\":{\"user_name\": \"x\",\n",
    " \"emial\": \"email@gmail.com\"},\n",
    "               \"10003\":{\"user_name\": \"y\",\n",
    " \"emial\": \"email@gmail.com\"}}"
   ]
  },
  {
   "cell_type": "markdown",
   "metadata": {},
   "source": [
    "Suma de lista"
   ]
  },
  {
   "cell_type": "code",
   "execution_count": 67,
   "metadata": {},
   "outputs": [
    {
     "data": {
      "text/plain": [
       "[1, 2, 3, 'hola', 3, 4]"
      ]
     },
     "execution_count": 67,
     "metadata": {},
     "output_type": "execute_result"
    }
   ],
   "source": [
    "lista = [1,2,3]\n",
    "lista_2 = [\"hola\",3,4]\n",
    "\n",
    "lista + lista_2"
   ]
  },
  {
   "cell_type": "code",
   "execution_count": 73,
   "metadata": {},
   "outputs": [],
   "source": [
    "lista_3 = [lista + lista_2]"
   ]
  },
  {
   "cell_type": "code",
   "execution_count": 77,
   "metadata": {},
   "outputs": [
    {
     "data": {
      "text/plain": [
       "2"
      ]
     },
     "execution_count": 77,
     "metadata": {},
     "output_type": "execute_result"
    }
   ],
   "source": [
    "lista_3[0][1]"
   ]
  },
  {
   "cell_type": "markdown",
   "metadata": {},
   "source": [
    "Diccionario"
   ]
  },
  {
   "cell_type": "code",
   "execution_count": 28,
   "metadata": {},
   "outputs": [],
   "source": [
    "diccionario = { \n",
    "    \"exp_0\": {\"resultado\": [1,3,4,5], \"fecha\": \"10-02-2024\"},\n",
    "    \"exp_1\": {\"resultado\": [1,5,4,1], \"fecha\": \"10-02-2024\"}   \n",
    "}"
   ]
  },
  {
   "cell_type": "code",
   "execution_count": 36,
   "metadata": {},
   "outputs": [
    {
     "name": "stdout",
     "output_type": "stream",
     "text": [
      "todo el objeto: {'resultado': [1, 3, 4, 5], 'fecha': '10-02-2024'}\n",
      "solo el resultado: [1, 3, 4, 5]\n",
      "promedio: 3.25\n",
      "########\n",
      "todo el objeto: {'resultado': [1, 5, 4, 1], 'fecha': '10-02-2024'}\n",
      "solo el resultado: [1, 5, 4, 1]\n",
      "promedio: 2.75\n"
     ]
    }
   ],
   "source": [
    "exp_0 = diccionario[\"exp_0\"]\n",
    "print(f\"todo el objeto: {exp_0}\")\n",
    "\n",
    "exp_0_resutlados = exp_0[\"resultado\"]\n",
    "print(f\"solo el resultado: {exp_0_resutlados}\")\n",
    "\n",
    "promedio = sum(exp_0_resutlados)/len(exp_0_resutlados)\n",
    "print(f\"promedio: {promedio}\")\n",
    "\n",
    "print(\"########\")\n",
    "\n",
    "exp_1 = diccionario[\"exp_1\"]\n",
    "print(f\"todo el objeto: {exp_1}\")\n",
    "\n",
    "exp_1_resutlados = exp_1[\"resultado\"]\n",
    "print(f\"solo el resultado: {exp_1_resutlados}\")\n",
    "\n",
    "promedio = sum(exp_1_resutlados)/len(exp_1_resutlados)\n",
    "print(f\"promedio: {promedio}\")"
   ]
  },
  {
   "cell_type": "code",
   "execution_count": 33,
   "metadata": {},
   "outputs": [
    {
     "name": "stdout",
     "output_type": "stream",
     "text": [
      "exp_0 {'resultado': [1, 3, 4, 5], 'fecha': '10-02-2024'}\n",
      "3.25\n",
      "exp_1 {'resultado': [1, 5, 4, 1], 'fecha': '10-02-2024'}\n",
      "2.75\n"
     ]
    }
   ],
   "source": [
    "for exp, resumen in diccionario.items():\n",
    "    print(exp, resumen)\n",
    "    print(sum(resumen[\"resultado\"])/len(resumen[\"resultado\"]))"
   ]
  },
  {
   "cell_type": "code",
   "execution_count": 9,
   "metadata": {},
   "outputs": [
    {
     "name": "stdout",
     "output_type": "stream",
     "text": [
      "c\n",
      "u\n",
      "a\n",
      "l\n",
      "q\n",
      "u\n",
      "i\n",
      "e\n",
      "r\n",
      " \n",
      "c\n",
      "o\n",
      "s\n",
      "a\n"
     ]
    }
   ],
   "source": [
    "for contador in range(len(mi_string)):\n",
    "    print(mi_string[contador])\n",
    "    "
   ]
  },
  {
   "cell_type": "code",
   "execution_count": 44,
   "metadata": {},
   "outputs": [],
   "source": [
    "# Dictionary\n",
    "parser = [{\"ID\": \"Genoma_CpI19_Refinada_v2\",\n",
    "          \"Description\": \"\",\n",
    "          \"Sequence\": \"GTGTCGGAGGCTCCATCGACATGGAACGAGCGGTGGCAAGAAGTTACTAATGAGCTGCTGTCACAGTCTCAGGACCCGGAAAGTGGTATTTCCATTACGCGACAGCAAAGCGCCTACCTGCGTCTGGTTAAACCAGTTGCTTTTGTAGAGGGTATTGCCGTTTTAAGCGTTCCTCACGCCCGAGCGAAAAAAGAGATTGAAACTACGCTGGGACCTGTTATCACAGAGGTATTGTCTCGTAGACTAGGTCGACAATACAGTCTTGCAGTGAGCGTTCATGCTCCAGAGGAAAATCCAGAAGTATCCTCGGCCACTCCAGATGCTGTGTCTTATTACCAGGAACAATCTGCAGTTTCTGGACAATACGGAGCAACTTCAGCCAATGCTGACTTCCAGAATCAACAAAGCACGATATATCGCAAGCCACAGGAGTCGCAGTATCCTGTGACTTTTGGTGCTTCTTCATACGGAAATGAGAAGTACCAGGAAAATTCCCAAGACCAGGGCATTTCTCATCATCCTTATGGTTTTAATGAGGCTCAACGCATTGCTTCATCTGCCTCTCATGCTGTTCCGCAAAGTGGTTCTGAGCTACTGCAC\"},\n",
    "          {\"ID\": \"Genoma_de_mentira\",\n",
    "          \"Description\": \"blablabla\",\n",
    "          \"Sequence\": \"GTGTCGGAGGCTCCATCGACATGGAACGAGCGGTGGCAAGAAGTTACTAATGAGCTGCTGTCACAGTCTCAGGACCCGGAAAGTGGTATTTCCATTACGCGACAGCAAAGCGCCTACCTGCGTCTGGTTAAACCAGTTGCTTTTGTAGAGGGTATTGCCGTTTTAAGCGTTCCTCACGCCCGAGCGAAAAAAGAGATTGAAACTACGCTGGGACCTGTTATCACAGAGGTATTGTCTCGTAGACTAGGTCGACAATACAGTCTTGCAGTGAGCGTTCATGCTCCAGAGGAAAATCCAGAAGTATCCTCGGCCACTCCAGATGCTGTGTCTTATTACCAGGAACAATCTGCAGTTTCTGGACAATACGGAGCAACTTCAGCCAATGCTGACTTCCAGAATCAACAAAGCACGATATATCGCAAGCCACAGGAGTCGCAGTATCCTGTGACTTTTGGTGCTTCTTCATACGGAAATGAGAAGTACCAGGAAAATTCCCAAGACCAGGGCATTTCTCATCATCCTTATGGTTTTAATGAGGCTCAACGCATTGCTTCATCTGCCTCTCATGCTGTTCCGCAAAGTGGTTCTG\"}]"
   ]
  },
  {
   "cell_type": "code",
   "execution_count": 46,
   "metadata": {},
   "outputs": [
    {
     "data": {
      "text/plain": [
       "{'ID': 'Genoma_de_mentira',\n",
       " 'Description': 'blablabla',\n",
       " 'Sequence': 'GTGTCGGAGGCTCCATCGACATGGAACGAGCGGTGGCAAGAAGTTACTAATGAGCTGCTGTCACAGTCTCAGGACCCGGAAAGTGGTATTTCCATTACGCGACAGCAAAGCGCCTACCTGCGTCTGGTTAAACCAGTTGCTTTTGTAGAGGGTATTGCCGTTTTAAGCGTTCCTCACGCCCGAGCGAAAAAAGAGATTGAAACTACGCTGGGACCTGTTATCACAGAGGTATTGTCTCGTAGACTAGGTCGACAATACAGTCTTGCAGTGAGCGTTCATGCTCCAGAGGAAAATCCAGAAGTATCCTCGGCCACTCCAGATGCTGTGTCTTATTACCAGGAACAATCTGCAGTTTCTGGACAATACGGAGCAACTTCAGCCAATGCTGACTTCCAGAATCAACAAAGCACGATATATCGCAAGCCACAGGAGTCGCAGTATCCTGTGACTTTTGGTGCTTCTTCATACGGAAATGAGAAGTACCAGGAAAATTCCCAAGACCAGGGCATTTCTCATCATCCTTATGGTTTTAATGAGGCTCAACGCATTGCTTCATCTGCCTCTCATGCTGTTCCGCAAAGTGGTTCTG'}"
      ]
     },
     "execution_count": 46,
     "metadata": {},
     "output_type": "execute_result"
    }
   ],
   "source": [
    "parser[1]"
   ]
  },
  {
   "cell_type": "code",
   "execution_count": 47,
   "metadata": {},
   "outputs": [
    {
     "name": "stdout",
     "output_type": "stream",
     "text": [
      "ID: Genoma_CpI19_Refinada_v2\n",
      "Description: \n",
      "Sequence: GTGTCGGAGGCTCCATCGACATGGAACGAGCGGTGGCAAGAAGTTACTAATGAGCTGCTGTCACAGTCTCAGGACCCGGAAAGTGGTATTTCCATTACGCGACAGCAAAGCGCCTACCTGCGTCTGGTTAAACCAGTTGCTTTTGTAGAGGGTATTGCCGTTTTAAGCGTTCCTCACGCCCGAGCGAAAAAAGAGATTGAAACTACGCTGGGACCTGTTATCACAGAGGTATTGTCTCGTAGACTAGGTCGACAATACAGTCTTGCAGTGAGCGTTCATGCTCCAGAGGAAAATCCAGAAGTATCCTCGGCCACTCCAGATGCTGTGTCTTATTACCAGGAACAATCTGCAGTTTCTGGACAATACGGAGCAACTTCAGCCAATGCTGACTTCCAGAATCAACAAAGCACGATATATCGCAAGCCACAGGAGTCGCAGTATCCTGTGACTTTTGGTGCTTCTTCATACGGAAATGAGAAGTACCAGGAAAATTCCCAAGACCAGGGCATTTCTCATCATCCTTATGGTTTTAATGAGGCTCAACGCATTGCTTCATCTGCCTCTCATGCTGTTCCGCAAAGTGGTTCTGAGCTACTGCAC\n",
      "\n",
      "ID: Genoma_de_mentira\n",
      "Description: blablabla\n",
      "Sequence: GTGTCGGAGGCTCCATCGACATGGAACGAGCGGTGGCAAGAAGTTACTAATGAGCTGCTGTCACAGTCTCAGGACCCGGAAAGTGGTATTTCCATTACGCGACAGCAAAGCGCCTACCTGCGTCTGGTTAAACCAGTTGCTTTTGTAGAGGGTATTGCCGTTTTAAGCGTTCCTCACGCCCGAGCGAAAAAAGAGATTGAAACTACGCTGGGACCTGTTATCACAGAGGTATTGTCTCGTAGACTAGGTCGACAATACAGTCTTGCAGTGAGCGTTCATGCTCCAGAGGAAAATCCAGAAGTATCCTCGGCCACTCCAGATGCTGTGTCTTATTACCAGGAACAATCTGCAGTTTCTGGACAATACGGAGCAACTTCAGCCAATGCTGACTTCCAGAATCAACAAAGCACGATATATCGCAAGCCACAGGAGTCGCAGTATCCTGTGACTTTTGGTGCTTCTTCATACGGAAATGAGAAGTACCAGGAAAATTCCCAAGACCAGGGCATTTCTCATCATCCTTATGGTTTTAATGAGGCTCAACGCATTGCTTCATCTGCCTCTCATGCTGTTCCGCAAAGTGGTTCTG\n",
      "\n"
     ]
    }
   ],
   "source": [
    "for seq in parser:\n",
    "    print('ID:', seq['ID'])\n",
    "    print('Description:', seq['Description'])\n",
    "    print('Sequence:', seq['Sequence'])\n",
    "    print()"
   ]
  },
  {
   "cell_type": "markdown",
   "metadata": {},
   "source": [
    "## Algebra lineal"
   ]
  },
  {
   "cell_type": "code",
   "execution_count": 79,
   "metadata": {},
   "outputs": [],
   "source": [
    "import numpy as np"
   ]
  },
  {
   "cell_type": "code",
   "execution_count": 81,
   "metadata": {},
   "outputs": [],
   "source": [
    "x = np.array([1,2,3,4])"
   ]
  },
  {
   "cell_type": "code",
   "execution_count": 82,
   "metadata": {},
   "outputs": [],
   "source": [
    "y = np.array([3,4,5,6])"
   ]
  },
  {
   "cell_type": "code",
   "execution_count": 83,
   "metadata": {},
   "outputs": [
    {
     "data": {
      "text/plain": [
       "array([1, 2, 3, 4])"
      ]
     },
     "execution_count": 83,
     "metadata": {},
     "output_type": "execute_result"
    }
   ],
   "source": [
    "x"
   ]
  },
  {
   "cell_type": "code",
   "execution_count": 84,
   "metadata": {},
   "outputs": [
    {
     "data": {
      "text/plain": [
       "array([3, 4, 5, 6])"
      ]
     },
     "execution_count": 84,
     "metadata": {},
     "output_type": "execute_result"
    }
   ],
   "source": [
    "y"
   ]
  },
  {
   "cell_type": "code",
   "execution_count": 85,
   "metadata": {},
   "outputs": [
    {
     "data": {
      "text/plain": [
       "array([ 4,  6,  8, 10])"
      ]
     },
     "execution_count": 85,
     "metadata": {},
     "output_type": "execute_result"
    }
   ],
   "source": [
    "x+y"
   ]
  },
  {
   "cell_type": "code",
   "execution_count": 86,
   "metadata": {},
   "outputs": [
    {
     "data": {
      "text/plain": [
       "50"
      ]
     },
     "execution_count": 86,
     "metadata": {},
     "output_type": "execute_result"
    }
   ],
   "source": [
    "np.dot(x,y)"
   ]
  },
  {
   "cell_type": "markdown",
   "metadata": {},
   "source": [
    "## Ejercicio: corroborar que una secuencia está corrupta"
   ]
  },
  {
   "cell_type": "code",
   "execution_count": 99,
   "metadata": {},
   "outputs": [],
   "source": [
    "secuencia = parser[0][\"Sequence\"]"
   ]
  },
  {
   "cell_type": "code",
   "execution_count": 100,
   "metadata": {},
   "outputs": [
    {
     "data": {
      "text/plain": [
       "'GTGTCGGAGGCTCCATCGACATGGAACGAGCGGTGGCAAGAAGTTACTAATGAGCTGCTGTCACAGTCTCAGGACCCGGAAAGTGGTATTTCCATTACGCGACAGCAAAGCGCCTACCTGCGTCTGGTTAAACCAGTTGCTTTTGTAGAGGGTATTGCCGTTTTAAGCGTTCCTCACGCCCGAGCGAAAAAAGAGATTGAAACTACGCTGGGACCTGTTATCACAGAGGTATTGTCTCGTAGACTAGGTCGACAATACAGTCTTGCAGTGAGCGTTCATGCTCCAGAGGAAAATCCAGAAGTATCCTCGGCCACTCCAGATGCTGTGTCTTATTACCAGGAACAATCTGCAGTTTCTGGACAATACGGAGCAACTTCAGCCAATGCTGACTTCCAGAATCAACAAAGCACGATATATCGCAAGCCACAGGAGTCGCAGTATCCTGTGACTTTTGGTGCTTCTTCATACGGAAATGAGAAGTACCAGGAAAATTCCCAAGACCAGGGCATTTCTCATCATCCTTATGGTTTTAATGAGGCTCAACGCATTGCTTCATCTGCCTCTCATGCTGTTCCGCAAAGTGGTTCTGAGCTACTGCAC'"
      ]
     },
     "execution_count": 100,
     "metadata": {},
     "output_type": "execute_result"
    }
   ],
   "source": [
    "secuencia"
   ]
  },
  {
   "cell_type": "code",
   "execution_count": 90,
   "metadata": {},
   "outputs": [
    {
     "data": {
      "text/plain": [
       "str"
      ]
     },
     "execution_count": 90,
     "metadata": {},
     "output_type": "execute_result"
    }
   ],
   "source": [
    "type(secuencia)"
   ]
  },
  {
   "cell_type": "code",
   "execution_count": 91,
   "metadata": {},
   "outputs": [
    {
     "data": {
      "text/plain": [
       "{'A', 'C', 'G', 'T'}"
      ]
     },
     "execution_count": 91,
     "metadata": {},
     "output_type": "execute_result"
    }
   ],
   "source": [
    "set(secuencia)"
   ]
  },
  {
   "cell_type": "code",
   "execution_count": 106,
   "metadata": {},
   "outputs": [],
   "source": [
    "# metodo o funcion\n",
    "def advertencia(secuencia: str)-> None:\n",
    "    \"\"\"\n",
    "    Este método recibe una secuencia de ADN en formato str\n",
    "    y devuelve un error en caso de que esté corrupta la secuencia.\n",
    "    Args:\n",
    "        secuencia (str): secuencia de ADN en formato string. Por ejemplo: 'TCCATCGACATGGAACGAGCGGTGGCAAGAAG'\n",
    "    Return: \n",
    "        None\n",
    "    \"\"\"\n",
    "\n",
    "    # Conocimiento \n",
    "    ref = {'A', 'C', 'G', 'T'}\n",
    "\n",
    "    if ref == set(secuencia):\n",
    "        print(\"Secuencia sin problemas!\") \n",
    "    else:\n",
    "        print(f\"ERROR, el elemento diferente es: {set(secuencia).difference(ref)}\")  "
   ]
  },
  {
   "cell_type": "code",
   "execution_count": 107,
   "metadata": {},
   "outputs": [
    {
     "name": "stdout",
     "output_type": "stream",
     "text": [
      "Secuencia sin problemas!\n"
     ]
    }
   ],
   "source": [
    "advertencia(secuencia)"
   ]
  },
  {
   "cell_type": "markdown",
   "metadata": {},
   "source": [
    "Secuencia corrupta"
   ]
  },
  {
   "cell_type": "code",
   "execution_count": 108,
   "metadata": {},
   "outputs": [],
   "source": [
    "secuencia_corrupta = parser[0][\"Sequence\"]+'W'"
   ]
  },
  {
   "cell_type": "code",
   "execution_count": 109,
   "metadata": {},
   "outputs": [
    {
     "data": {
      "text/plain": [
       "'GTGTCGGAGGCTCCATCGACATGGAACGAGCGGTGGCAAGAAGTTACTAATGAGCTGCTGTCACAGTCTCAGGACCCGGAAAGTGGTATTTCCATTACGCGACAGCAAAGCGCCTACCTGCGTCTGGTTAAACCAGTTGCTTTTGTAGAGGGTATTGCCGTTTTAAGCGTTCCTCACGCCCGAGCGAAAAAAGAGATTGAAACTACGCTGGGACCTGTTATCACAGAGGTATTGTCTCGTAGACTAGGTCGACAATACAGTCTTGCAGTGAGCGTTCATGCTCCAGAGGAAAATCCAGAAGTATCCTCGGCCACTCCAGATGCTGTGTCTTATTACCAGGAACAATCTGCAGTTTCTGGACAATACGGAGCAACTTCAGCCAATGCTGACTTCCAGAATCAACAAAGCACGATATATCGCAAGCCACAGGAGTCGCAGTATCCTGTGACTTTTGGTGCTTCTTCATACGGAAATGAGAAGTACCAGGAAAATTCCCAAGACCAGGGCATTTCTCATCATCCTTATGGTTTTAATGAGGCTCAACGCATTGCTTCATCTGCCTCTCATGCTGTTCCGCAAAGTGGTTCTGAGCTACTGCACW'"
      ]
     },
     "execution_count": 109,
     "metadata": {},
     "output_type": "execute_result"
    }
   ],
   "source": [
    "secuencia_corrupta"
   ]
  },
  {
   "cell_type": "code",
   "execution_count": 110,
   "metadata": {},
   "outputs": [
    {
     "name": "stdout",
     "output_type": "stream",
     "text": [
      "ERROR, el elemento diferente es: {'W'}\n"
     ]
    }
   ],
   "source": [
    "advertencia(secuencia_corrupta)"
   ]
  },
  {
   "cell_type": "code",
   "execution_count": null,
   "metadata": {},
   "outputs": [],
   "source": []
  },
  {
   "cell_type": "code",
   "execution_count": null,
   "metadata": {},
   "outputs": [],
   "source": []
  }
 ],
 "metadata": {
  "kernelspec": {
   "display_name": "Python 3",
   "language": "python",
   "name": "python3"
  },
  "language_info": {
   "codemirror_mode": {
    "name": "ipython",
    "version": 3
   },
   "file_extension": ".py",
   "mimetype": "text/x-python",
   "name": "python",
   "nbconvert_exporter": "python",
   "pygments_lexer": "ipython3",
   "version": "3.11.6"
  }
 },
 "nbformat": 4,
 "nbformat_minor": 2
}
